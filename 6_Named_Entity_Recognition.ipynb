{
 "cells": [
  {
   "cell_type": "markdown",
   "id": "1742b233",
   "metadata": {},
   "source": [
    "# Named Entity Recognition (NER) with NLTK\n",
    "This notebook demonstrates how to perform Named Entity Recognition using the NLTK library. It covers tokenization, POS tagging, and chunking to identify named entities in a sentence."
   ]
  },
  {
   "cell_type": "markdown",
   "id": "d6af47e9",
   "metadata": {},
   "source": [
    "## 1. Define Example Sentence\n",
    "Provide a sample sentence containing named entities for analysis."
   ]
  },
  {
   "cell_type": "code",
   "execution_count": 15,
   "id": "e8421d49",
   "metadata": {},
   "outputs": [],
   "source": [
    "sentence=\"The Eiffel Tower was built from 1887 to 1889 by Gustave Eiffel, whose company specialized in building metal frameworks and structures.\""
   ]
  },
  {
   "cell_type": "markdown",
   "id": "cb2d9c6f",
   "metadata": {},
   "source": [
    "## 2. Tokenization\n",
    "Split the sentence into individual words using NLTK's word tokenizer."
   ]
  },
  {
   "cell_type": "code",
   "execution_count": 16,
   "id": "8a4277a0",
   "metadata": {},
   "outputs": [],
   "source": [
    "import nltk\n",
    "words=nltk.word_tokenize(sentence)"
   ]
  },
  {
   "cell_type": "markdown",
   "id": "f953c58f",
   "metadata": {},
   "source": [
    "## 3. Part-of-Speech (POS) Tagging\n",
    "Assign POS tags to each token to provide grammatical context for NER."
   ]
  },
  {
   "cell_type": "code",
   "execution_count": 17,
   "id": "82ad8046",
   "metadata": {},
   "outputs": [],
   "source": [
    "tag_elements=nltk.pos_tag(words)"
   ]
  },
  {
   "cell_type": "markdown",
   "id": "cc51655e",
   "metadata": {},
   "source": [
    "## 4. Download NLTK Resources\n",
    "Download necessary NLTK resources for named entity chunking and word recognition."
   ]
  },
  {
   "cell_type": "code",
   "execution_count": 18,
   "id": "0c24124b",
   "metadata": {},
   "outputs": [
    {
     "name": "stderr",
     "output_type": "stream",
     "text": [
      "[nltk_data] Downloading package maxent_ne_chunker_tab to\n",
      "[nltk_data]     C:\\Users\\ASUS\\AppData\\Roaming\\nltk_data...\n",
      "[nltk_data]   Package maxent_ne_chunker_tab is already up-to-date!\n"
     ]
    },
    {
     "data": {
      "text/plain": [
       "True"
      ]
     },
     "execution_count": 18,
     "metadata": {},
     "output_type": "execute_result"
    }
   ],
   "source": [
    "nltk.download('maxent_ne_chunker_tab')"
   ]
  },
  {
   "cell_type": "code",
   "execution_count": 19,
   "id": "d76746a6",
   "metadata": {},
   "outputs": [
    {
     "name": "stderr",
     "output_type": "stream",
     "text": [
      "[nltk_data] Downloading package words to\n",
      "[nltk_data]     C:\\Users\\ASUS\\AppData\\Roaming\\nltk_data...\n",
      "[nltk_data]   Package words is already up-to-date!\n"
     ]
    },
    {
     "data": {
      "text/plain": [
       "True"
      ]
     },
     "execution_count": 19,
     "metadata": {},
     "output_type": "execute_result"
    }
   ],
   "source": [
    "nltk.download('words')"
   ]
  },
  {
   "cell_type": "markdown",
   "id": "ea8077f4",
   "metadata": {},
   "source": [
    "## 5. Named Entity Chunking and Visualization\n",
    "Use NLTK's `ne_chunk` to identify named entities and visualize the result as a tree."
   ]
  },
  {
   "cell_type": "code",
   "execution_count": 20,
   "id": "89384a66",
   "metadata": {},
   "outputs": [],
   "source": [
    "nltk.ne_chunk(tag_elements).draw()"
   ]
  }
 ],
 "metadata": {
  "kernelspec": {
   "display_name": "Python 3",
   "language": "python",
   "name": "python3"
  },
  "language_info": {
   "codemirror_mode": {
    "name": "ipython",
    "version": 3
   },
   "file_extension": ".py",
   "mimetype": "text/x-python",
   "name": "python",
   "nbconvert_exporter": "python",
   "pygments_lexer": "ipython3",
   "version": "3.12.0"
  }
 },
 "nbformat": 4,
 "nbformat_minor": 5
}
