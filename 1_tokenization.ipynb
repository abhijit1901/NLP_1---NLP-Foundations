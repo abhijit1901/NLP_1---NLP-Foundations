{
 "cells": [
  {
   "cell_type": "markdown",
   "id": "65bcacf3",
   "metadata": {},
   "source": [
    "# Tokenization with NLTK\n",
    "This notebook demonstrates sentence and word tokenization using NLTK. Tokenization is the process of splitting text into sentences and words, which is a fundamental step in NLP."
   ]
  },
  {
   "cell_type": "markdown",
   "id": "531c963d",
   "metadata": {},
   "source": [
    "## 1. Define Example Corpus\n",
    "Provide a sample text corpus for tokenization."
   ]
  },
  {
   "cell_type": "code",
   "execution_count": 1,
   "id": "0ec64bf7",
   "metadata": {},
   "outputs": [],
   "source": [
    "corpus = \"\"\"hello i am learning nlp! I am learning nlp. nlp is very interesting. I like nlp.\"\"\""
   ]
  },
  {
   "cell_type": "markdown",
   "id": "fafa45cc",
   "metadata": {},
   "source": [
    "## 2. View Corpus\n",
    "Display the original text corpus."
   ]
  },
  {
   "cell_type": "code",
   "execution_count": 2,
   "id": "2fd83225",
   "metadata": {},
   "outputs": [
    {
     "data": {
      "text/plain": [
       "'hello i am learning nlp! I am learning nlp. nlp is very interesting. I like nlp.'"
      ]
     },
     "execution_count": 2,
     "metadata": {},
     "output_type": "execute_result"
    }
   ],
   "source": [
    "corpus"
   ]
  },
  {
   "cell_type": "markdown",
   "id": "21ffc710",
   "metadata": {},
   "source": [
    "## 3. Import NLTK and Download Resources\n",
    "Import NLTK and download the 'punkt' tokenizer models required for sentence and word tokenization."
   ]
  },
  {
   "cell_type": "code",
   "execution_count": 3,
   "id": "0e82f6c1",
   "metadata": {},
   "outputs": [
    {
     "name": "stderr",
     "output_type": "stream",
     "text": [
      "[nltk_data] Downloading package punkt to\n",
      "[nltk_data]     C:\\Users\\ASUS\\AppData\\Roaming\\nltk_data...\n",
      "[nltk_data]   Package punkt is already up-to-date!\n"
     ]
    },
    {
     "data": {
      "text/plain": [
       "True"
      ]
     },
     "execution_count": 3,
     "metadata": {},
     "output_type": "execute_result"
    }
   ],
   "source": [
    "##tokenization\n",
    "## para -> sentence\n",
    "import nltk\n",
    "nltk.download('punkt')\n"
   ]
  },
  {
   "cell_type": "markdown",
   "id": "d32a21fd",
   "metadata": {},
   "source": [
    "## 4. Sentence Tokenization\n",
    "Split the corpus into sentences using NLTK's `sent_tokenize`."
   ]
  },
  {
   "cell_type": "code",
   "execution_count": 4,
   "id": "f54a6723",
   "metadata": {},
   "outputs": [],
   "source": [
    "from nltk.tokenize import sent_tokenize\n",
    "documents = sent_tokenize(corpus)"
   ]
  },
  {
   "cell_type": "markdown",
   "id": "6487dbba",
   "metadata": {},
   "source": [
    "## 5. View Tokenized Sentences\n",
    "Display the list of sentences obtained from tokenization."
   ]
  },
  {
   "cell_type": "code",
   "execution_count": 5,
   "id": "4e0635f8",
   "metadata": {},
   "outputs": [
    {
     "data": {
      "text/plain": [
       "['hello i am learning nlp!',\n",
       " 'I am learning nlp.',\n",
       " 'nlp is very interesting.',\n",
       " 'I like nlp.']"
      ]
     },
     "execution_count": 5,
     "metadata": {},
     "output_type": "execute_result"
    }
   ],
   "source": [
    "type(documents)\n",
    "documents"
   ]
  },
  {
   "cell_type": "markdown",
   "id": "ebbc1709",
   "metadata": {},
   "source": [
    "## 6. Print Each Sentence\n",
    "Iterate through the tokenized sentences and print each one."
   ]
  },
  {
   "cell_type": "code",
   "execution_count": 6,
   "id": "30c1f8e5",
   "metadata": {},
   "outputs": [
    {
     "name": "stdout",
     "output_type": "stream",
     "text": [
      "hello i am learning nlp!\n",
      "I am learning nlp.\n",
      "nlp is very interesting.\n",
      "I like nlp.\n"
     ]
    }
   ],
   "source": [
    "## iteration in documents\n",
    "for sentence in documents:\n",
    "    print(sentence)"
   ]
  },
  {
   "cell_type": "markdown",
   "id": "aacf29b3",
   "metadata": {},
   "source": [
    "## 7. Word Tokenization\n",
    "Split the corpus and each sentence into words using NLTK's `word_tokenize`."
   ]
  },
  {
   "cell_type": "code",
   "execution_count": 7,
   "id": "3c84413d",
   "metadata": {},
   "outputs": [
    {
     "name": "stdout",
     "output_type": "stream",
     "text": [
      "['hello', 'i', 'am', 'learning', 'nlp', '!']\n",
      "['I', 'am', 'learning', 'nlp', '.']\n",
      "['nlp', 'is', 'very', 'interesting', '.']\n",
      "['I', 'like', 'nlp', '.']\n"
     ]
    },
    {
     "data": {
      "text/plain": [
       "['hello',\n",
       " 'i',\n",
       " 'am',\n",
       " 'learning',\n",
       " 'nlp',\n",
       " '!',\n",
       " 'I',\n",
       " 'am',\n",
       " 'learning',\n",
       " 'nlp',\n",
       " '.',\n",
       " 'nlp',\n",
       " 'is',\n",
       " 'very',\n",
       " 'interesting',\n",
       " '.',\n",
       " 'I',\n",
       " 'like',\n",
       " 'nlp',\n",
       " '.']"
      ]
     },
     "execution_count": 7,
     "metadata": {},
     "output_type": "execute_result"
    }
   ],
   "source": [
    "## tokenization\n",
    "## paras(corpus) -> words\n",
    "## documents(sentence) -> words\n",
    "from nltk.tokenize import word_tokenize\n",
    "words = word_tokenize(corpus)\n",
    "for sentence in documents:\n",
    "    documents_to_words = word_tokenize(sentence)\n",
    "    print(documents_to_words)\n",
    "words"
   ]
  }
 ],
 "metadata": {
  "kernelspec": {
   "display_name": "Python 3",
   "language": "python",
   "name": "python3"
  },
  "language_info": {
   "codemirror_mode": {
    "name": "ipython",
    "version": 3
   },
   "file_extension": ".py",
   "mimetype": "text/x-python",
   "name": "python",
   "nbconvert_exporter": "python",
   "pygments_lexer": "ipython3",
   "version": "3.12.0"
  }
 },
 "nbformat": 4,
 "nbformat_minor": 5
}
