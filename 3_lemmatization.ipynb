{
 "cells": [
  {
   "cell_type": "markdown",
   "id": "2c6604c4",
   "metadata": {},
   "source": [
    "# WordNet Lemmatizer Demonstration\n",
    "This notebook introduces lemmatization using NLTK's WordNetLemmatizer, explains its difference from stemming, and provides practical examples for various word forms and POS tags."
   ]
  },
  {
   "cell_type": "markdown",
   "id": "1eb15acc",
   "metadata": {},
   "source": [
    "### Wordnet Lemmatizer\n",
    "##### Lemmatization technique is like stemming. The output we will get after lemmatization is called ‘lemma’, which is a root word rather than root stem, the output of stemming. After lemmatization, we will be getting a valid word that means the same thing.\n",
    "\n",
    "##### NLTK provides WordNetLemmatizer class which is a thin wrapper around the wordnet corpus. This class uses morphy() function to the WordNet CorpusReader class to find a lemma. Let us understand it with an example −"
   ]
  },
  {
   "cell_type": "markdown",
   "id": "8d60f076",
   "metadata": {},
   "source": [
    "## 1. Import Required Libraries\n",
    "Import NLTK and WordNetLemmatizer for lemmatization tasks."
   ]
  },
  {
   "cell_type": "code",
   "execution_count": 10,
   "id": "dc1b9f90",
   "metadata": {},
   "outputs": [],
   "source": [
    "import nltk\n",
    "## used in Q&A,chatbots,text summarization\n",
    "from nltk.stem import WordNetLemmatizer"
   ]
  },
  {
   "cell_type": "markdown",
   "id": "d88218af",
   "metadata": {},
   "source": [
    "## 2. Initialize Lemmatizer\n",
    "Create an instance of WordNetLemmatizer to perform lemmatization."
   ]
  },
  {
   "cell_type": "code",
   "execution_count": 11,
   "id": "a4e37fb3",
   "metadata": {},
   "outputs": [],
   "source": [
    "lemmatizer = WordNetLemmatizer()"
   ]
  },
  {
   "cell_type": "markdown",
   "id": "8c8a5c05",
   "metadata": {},
   "source": [
    "## 3. Lemmatization with POS Tags\n",
    "Demonstrate lemmatization for different parts of speech (POS) tags such as noun (`n`), verb (`v`), adjective (`a`), and adverb (`r`)."
   ]
  },
  {
   "cell_type": "code",
   "execution_count": null,
   "id": "5161f1b4",
   "metadata": {},
   "outputs": [
    {
     "data": {
      "text/plain": [
       "'go'"
      ]
     },
     "execution_count": 12,
     "metadata": {},
     "output_type": "execute_result"
    }
   ],
   "source": [
    "'''\n",
    "POS Tags- \n",
    "Noun-n\n",
    "verb-v\n",
    "adjective-a\n",
    "adverb-r\n",
    "'''\n",
    "lemmatizer.lemmatize(\"going\",pos='v') "
   ]
  },
  {
   "cell_type": "markdown",
   "id": "308a1814",
   "metadata": {},
   "source": [
    "## 4. Lemmatize Multiple Words\n",
    "Apply lemmatization to a list of words and observe how their root forms are extracted."
   ]
  },
  {
   "cell_type": "code",
   "execution_count": 13,
   "id": "68417e4b",
   "metadata": {},
   "outputs": [],
   "source": [
    "words=[\"eating\",\"eats\",\"eaten\",\"writing\",\"writes\",\"programming\",\"programs\",\"history\",\"finally\",\"finalized\"]"
   ]
  },
  {
   "cell_type": "code",
   "execution_count": null,
   "id": "5c0e68e1",
   "metadata": {},
   "outputs": [
    {
     "name": "stdout",
     "output_type": "stream",
     "text": [
      "eating---->eat\n",
      "eats---->eat\n",
      "eaten---->eat\n",
      "writing---->write\n",
      "writes---->write\n",
      "programming---->program\n",
      "programs---->program\n",
      "history---->history\n",
      "finally---->finally\n",
      "finalized---->finalize\n"
     ]
    }
   ],
   "source": [
    "for word in words:\n",
    "    print(word+\" ----> \"+lemmatizer.lemmatize(word,pos='v'))"
   ]
  },
  {
   "cell_type": "markdown",
   "id": "e41142c1",
   "metadata": {},
   "source": [
    "## 5. Additional Lemmatization Examples\n",
    "Explore lemmatization results for other words and edge cases."
   ]
  },
  {
   "cell_type": "code",
   "execution_count": 15,
   "id": "f8b67643",
   "metadata": {},
   "outputs": [
    {
     "data": {
      "text/plain": [
       "'go'"
      ]
     },
     "execution_count": 15,
     "metadata": {},
     "output_type": "execute_result"
    }
   ],
   "source": [
    "lemmatizer.lemmatize(\"goes\",pos='v')\n"
   ]
  },
  {
   "cell_type": "code",
   "execution_count": 16,
   "id": "66aceacb",
   "metadata": {},
   "outputs": [
    {
     "data": {
      "text/plain": [
       "('fairly', 'sportingly')"
      ]
     },
     "execution_count": 16,
     "metadata": {},
     "output_type": "execute_result"
    }
   ],
   "source": [
    "lemmatizer.lemmatize(\"fairly\",pos='v'),lemmatizer.lemmatize(\"sportingly\")"
   ]
  }
 ],
 "metadata": {
  "kernelspec": {
   "display_name": "Python 3",
   "language": "python",
   "name": "python3"
  },
  "language_info": {
   "codemirror_mode": {
    "name": "ipython",
    "version": 3
   },
   "file_extension": ".py",
   "mimetype": "text/x-python",
   "name": "python",
   "nbconvert_exporter": "python",
   "pygments_lexer": "ipython3",
   "version": "3.12.0"
  }
 },
 "nbformat": 4,
 "nbformat_minor": 5
}
